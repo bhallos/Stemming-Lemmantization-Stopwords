{
 "cells": [
  {
   "cell_type": "code",
   "execution_count": null,
   "metadata": {},
   "outputs": [],
   "source": [
    "import nltk"
   ]
  },
  {
   "cell_type": "code",
   "execution_count": null,
   "metadata": {},
   "outputs": [],
   "source": [
    "from nltk import word_tokenize"
   ]
  },
  {
   "cell_type": "code",
   "execution_count": 25,
   "metadata": {},
   "outputs": [],
   "source": [
    "Text = \"\"\" Siwa Oasis in Egypt is a must-visit destination, especially for non-swimmers like myself. The salt pools boast a depth of up to 4 meters and an impressive salt concentration of over 95%. The picturesque blue waters create a stunning visual and make for a memorable experience. Don't worry about swimming skills - the high salt content ensures you'll float effortlessly. A visit to Siwa Oasis is truly a one-of-a-kind experience. \"\"\""
   ]
  },
  {
   "cell_type": "code",
   "execution_count": 26,
   "metadata": {},
   "outputs": [],
   "source": [
    "tokens = nltk.word_tokenize(Text)"
   ]
  },
  {
   "cell_type": "code",
   "execution_count": 27,
   "metadata": {},
   "outputs": [
    {
     "data": {
      "text/plain": [
       "['Siwa',\n",
       " 'Oasis',\n",
       " 'in',\n",
       " 'Egypt',\n",
       " 'is',\n",
       " 'a',\n",
       " 'must-visit',\n",
       " 'destination',\n",
       " ',',\n",
       " 'especially',\n",
       " 'for',\n",
       " 'non-swimmers',\n",
       " 'like',\n",
       " 'myself',\n",
       " '.',\n",
       " 'The',\n",
       " 'salt',\n",
       " 'pools',\n",
       " 'boast',\n",
       " 'a',\n",
       " 'depth',\n",
       " 'of',\n",
       " 'up',\n",
       " 'to',\n",
       " '4',\n",
       " 'meters',\n",
       " 'and',\n",
       " 'an',\n",
       " 'impressive',\n",
       " 'salt',\n",
       " 'concentration',\n",
       " 'of',\n",
       " 'over',\n",
       " '95',\n",
       " '%',\n",
       " '.',\n",
       " 'The',\n",
       " 'picturesque',\n",
       " 'blue',\n",
       " 'waters',\n",
       " 'create',\n",
       " 'a',\n",
       " 'stunning',\n",
       " 'visual',\n",
       " 'and',\n",
       " 'make',\n",
       " 'for',\n",
       " 'a',\n",
       " 'memorable',\n",
       " 'experience',\n",
       " '.',\n",
       " 'Do',\n",
       " \"n't\",\n",
       " 'worry',\n",
       " 'about',\n",
       " 'swimming',\n",
       " 'skills',\n",
       " '-',\n",
       " 'the',\n",
       " 'high',\n",
       " 'salt',\n",
       " 'content',\n",
       " 'ensures',\n",
       " 'you',\n",
       " \"'ll\",\n",
       " 'float',\n",
       " 'effortlessly',\n",
       " '.',\n",
       " 'A',\n",
       " 'visit',\n",
       " 'to',\n",
       " 'Siwa',\n",
       " 'Oasis',\n",
       " 'is',\n",
       " 'truly',\n",
       " 'a',\n",
       " 'one-of-a-kind',\n",
       " 'experience',\n",
       " '.']"
      ]
     },
     "execution_count": 27,
     "metadata": {},
     "output_type": "execute_result"
    }
   ],
   "source": [
    "tokens"
   ]
  },
  {
   "cell_type": "code",
   "execution_count": 28,
   "metadata": {},
   "outputs": [],
   "source": [
    "#Stemming\n",
    "\n",
    "from nltk.stem.porter import PorterStemmer"
   ]
  },
  {
   "cell_type": "code",
   "execution_count": 29,
   "metadata": {},
   "outputs": [],
   "source": [
    "porter = PorterStemmer()"
   ]
  },
  {
   "cell_type": "code",
   "execution_count": 30,
   "metadata": {},
   "outputs": [],
   "source": [
    "stem = [porter.stem(word) for word in tokens]"
   ]
  },
  {
   "cell_type": "code",
   "execution_count": 35,
   "metadata": {},
   "outputs": [
    {
     "name": "stdout",
     "output_type": "stream",
     "text": [
      "79\n",
      "['siwa', 'oasi', 'in', 'egypt', 'is', 'a', 'must-visit', 'destin', ',', 'especi', 'for', 'non-swimm', 'like', 'myself', '.', 'the', 'salt', 'pool', 'boast', 'a', 'depth', 'of', 'up', 'to', '4', 'meter', 'and', 'an', 'impress', 'salt', 'concentr', 'of', 'over', '95', '%', '.', 'the', 'picturesqu', 'blue', 'water', 'creat', 'a', 'stun', 'visual', 'and', 'make', 'for', 'a', 'memor', 'experi', '.', 'do', \"n't\", 'worri', 'about', 'swim', 'skill', '-', 'the', 'high', 'salt', 'content', 'ensur', 'you', \"'ll\", 'float', 'effortlessli', '.', 'a', 'visit', 'to', 'siwa', 'oasi', 'is', 'truli', 'a', 'one-of-a-kind', 'experi', '.']\n"
     ]
    }
   ],
   "source": [
    "print(len(stem))\n",
    "print(stem)"
   ]
  },
  {
   "cell_type": "code",
   "execution_count": 38,
   "metadata": {
    "tags": []
   },
   "outputs": [],
   "source": [
    "#Lemmatization\n",
    "from nltk.stem import WordNetLemmatizer\n",
    "\n",
    "lemmatizer = WordNetLemmatizer()\n",
    "lemma = [lemmatizer.lemmatize(word) for word in tokens]"
   ]
  },
  {
   "cell_type": "code",
   "execution_count": 39,
   "metadata": {},
   "outputs": [
    {
     "name": "stdout",
     "output_type": "stream",
     "text": [
      "79\n",
      "['Siwa', 'Oasis', 'in', 'Egypt', 'is', 'a', 'must-visit', 'destination', ',', 'especially', 'for', 'non-swimmers', 'like', 'myself', '.', 'The', 'salt', 'pool', 'boast', 'a', 'depth', 'of', 'up', 'to', '4', 'meter', 'and', 'an', 'impressive', 'salt', 'concentration', 'of', 'over', '95', '%', '.', 'The', 'picturesque', 'blue', 'water', 'create', 'a', 'stunning', 'visual', 'and', 'make', 'for', 'a', 'memorable', 'experience', '.', 'Do', \"n't\", 'worry', 'about', 'swimming', 'skill', '-', 'the', 'high', 'salt', 'content', 'ensures', 'you', \"'ll\", 'float', 'effortlessly', '.', 'A', 'visit', 'to', 'Siwa', 'Oasis', 'is', 'truly', 'a', 'one-of-a-kind', 'experience', '.']\n"
     ]
    }
   ],
   "source": [
    "print(len(lemma))\n",
    "print(lemma)"
   ]
  },
  {
   "cell_type": "code",
   "execution_count": null,
   "metadata": {},
   "outputs": [],
   "source": []
  }
 ],
 "metadata": {
  "kernelspec": {
   "display_name": "Python 3 (ipykernel)",
   "language": "python",
   "name": "python3"
  },
  "language_info": {
   "codemirror_mode": {
    "name": "ipython",
    "version": 3
   },
   "file_extension": ".py",
   "mimetype": "text/x-python",
   "name": "python",
   "nbconvert_exporter": "python",
   "pygments_lexer": "ipython3",
   "version": "3.11.1"
  }
 },
 "nbformat": 4,
 "nbformat_minor": 4
}
