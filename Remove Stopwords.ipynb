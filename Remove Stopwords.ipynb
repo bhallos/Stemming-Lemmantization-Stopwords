{
 "cells": [
  {
   "cell_type": "code",
   "execution_count": 2,
   "metadata": {
    "tags": []
   },
   "outputs": [],
   "source": [
    "#!pip install nltk\n",
    "\n",
    "import nltk\n",
    "import warnings\n",
    "warnings.filterwarnings('ignore')"
   ]
  },
  {
   "cell_type": "code",
   "execution_count": 34,
   "metadata": {
    "tags": []
   },
   "outputs": [],
   "source": [
    "from nltk import word_tokenize"
   ]
  },
  {
   "cell_type": "code",
   "execution_count": 35,
   "metadata": {
    "tags": []
   },
   "outputs": [],
   "source": [
    "Text = \"\"\" The Salt Lakes in Siwa Egypt are an interesting tourist destination, especially for those who cannot swim like me.\n",
    "\n",
    "It has a depth of up to 4 meters and the water here has a salt concentration of more than 95%.\n",
    "\n",
    "The Salt Lakes in Siwa Egypt are picturesque with blue water.\n",
    "\n",
    "It was a memorable experience for me on my trip to Siwa Egypt.\n",
    "\n",
    "No need to know how to swim as long as you have the courage to jump down… that’s floating thanks to the high salt content in the water, so you can’t sink! \"\"\""
   ]
  },
  {
   "cell_type": "code",
   "execution_count": 36,
   "metadata": {
    "tags": []
   },
   "outputs": [],
   "source": [
    "tokenize_word = nltk.word_tokenize(Text)"
   ]
  },
  {
   "cell_type": "code",
   "execution_count": 37,
   "metadata": {
    "tags": []
   },
   "outputs": [
    {
     "name": "stdout",
     "output_type": "stream",
     "text": [
      "109\n"
     ]
    },
    {
     "data": {
      "text/plain": [
       "['The',\n",
       " 'Salt',\n",
       " 'Lakes',\n",
       " 'in',\n",
       " 'Siwa',\n",
       " 'Egypt',\n",
       " 'are',\n",
       " 'an',\n",
       " 'interesting',\n",
       " 'tourist',\n",
       " 'destination',\n",
       " ',',\n",
       " 'especially',\n",
       " 'for',\n",
       " 'those',\n",
       " 'who',\n",
       " 'can',\n",
       " 'not',\n",
       " 'swim',\n",
       " 'like',\n",
       " 'me',\n",
       " '.',\n",
       " 'It',\n",
       " 'has',\n",
       " 'a',\n",
       " 'depth',\n",
       " 'of',\n",
       " 'up',\n",
       " 'to',\n",
       " '4',\n",
       " 'meters',\n",
       " 'and',\n",
       " 'the',\n",
       " 'water',\n",
       " 'here',\n",
       " 'has',\n",
       " 'a',\n",
       " 'salt',\n",
       " 'concentration',\n",
       " 'of',\n",
       " 'more',\n",
       " 'than',\n",
       " '95',\n",
       " '%',\n",
       " '.',\n",
       " 'The',\n",
       " 'Salt',\n",
       " 'Lakes',\n",
       " 'in',\n",
       " 'Siwa',\n",
       " 'Egypt',\n",
       " 'are',\n",
       " 'picturesque',\n",
       " 'with',\n",
       " 'blue',\n",
       " 'water',\n",
       " '.',\n",
       " 'It',\n",
       " 'was',\n",
       " 'a',\n",
       " 'memorable',\n",
       " 'experience',\n",
       " 'for',\n",
       " 'me',\n",
       " 'on',\n",
       " 'my',\n",
       " 'trip',\n",
       " 'to',\n",
       " 'Siwa',\n",
       " 'Egypt',\n",
       " '.',\n",
       " 'No',\n",
       " 'need',\n",
       " 'to',\n",
       " 'know',\n",
       " 'how',\n",
       " 'to',\n",
       " 'swim',\n",
       " 'as',\n",
       " 'long',\n",
       " 'as',\n",
       " 'you',\n",
       " 'have',\n",
       " 'the',\n",
       " 'courage',\n",
       " 'to',\n",
       " 'jump',\n",
       " 'down…',\n",
       " 'that',\n",
       " '’',\n",
       " 's',\n",
       " 'floating',\n",
       " 'thanks',\n",
       " 'to',\n",
       " 'the',\n",
       " 'high',\n",
       " 'salt',\n",
       " 'content',\n",
       " 'in',\n",
       " 'the',\n",
       " 'water',\n",
       " ',',\n",
       " 'so',\n",
       " 'you',\n",
       " 'can',\n",
       " '’',\n",
       " 't',\n",
       " 'sink',\n",
       " '!']"
      ]
     },
     "execution_count": 37,
     "metadata": {},
     "output_type": "execute_result"
    }
   ],
   "source": [
    "print(len(tokenize_word))\n",
    "tokenize_word"
   ]
  },
  {
   "cell_type": "code",
   "execution_count": 38,
   "metadata": {
    "tags": []
   },
   "outputs": [],
   "source": [
    "from nltk.corpus import stopwords"
   ]
  },
  {
   "cell_type": "code",
   "execution_count": 48,
   "metadata": {
    "tags": []
   },
   "outputs": [],
   "source": [
    "stop_words = set ((stopwords.words('english')))"
   ]
  },
  {
   "cell_type": "code",
   "execution_count": 49,
   "metadata": {
    "tags": []
   },
   "outputs": [
    {
     "name": "stdout",
     "output_type": "stream",
     "text": [
      "{'me', 'ain', 'm', 'these', 'down', 'all', \"she's\", 'at', 'into', 'other', 'here', 'are', 'll', 'in', 's', 'below', 'shouldn', 'whom', 'doing', 'over', 'were', 'or', \"hadn't\", 'with', 'during', 'this', \"should've\", 'nor', 'between', 'needn', \"isn't\", 'both', 'through', 'than', 'she', \"aren't\", 'any', 'his', 'few', 'for', 'too', 'hasn', 'mightn', 'their', 'you', \"didn't\", 'most', 'those', \"you'd\", 'can', 'about', 'was', 'wouldn', 'own', 'ma', \"you've\", 'further', 're', 'itself', 'until', 'some', \"needn't\", 'being', 'same', 'again', 'what', 'where', 'above', 'doesn', 'themselves', 'have', 'they', \"hasn't\", 'them', 'didn', 'because', 'the', 'while', 'from', 'your', 'of', \"won't\", \"don't\", 'but', 'her', 'has', 'just', 'did', \"it's\", 'which', \"shan't\", 'been', 'how', 'does', 'herself', 'that', 'i', 'to', 'hers', 't', 'why', \"you're\", 'only', 'very', 'out', 'having', \"doesn't\", \"that'll\", 'now', 'haven', 'd', 'do', \"weren't\", 'on', 'it', 'off', 'yours', 'couldn', \"couldn't\", 'up', 'wasn', 'its', 'himself', 'yourselves', 'y', 'after', 'won', 'before', 'each', 'when', 'no', \"you'll\", 'so', 'my', 'yourself', 'aren', 'ours', 'as', 'myself', 'weren', 'mustn', 'more', 'theirs', 'then', \"shouldn't\", 'is', 'there', 'our', 'shan', 'if', \"haven't\", 'will', 'be', \"mustn't\", 'don', 'isn', 'ourselves', 'a', \"mightn't\", 'an', 'such', 'had', 'and', 'should', 've', \"wasn't\", 'am', 'we', 'he', 'who', 'o', \"wouldn't\", 'against', 'him', 'not', 'once', 'by', 'under', 'hadn'}\n"
     ]
    }
   ],
   "source": [
    "print(stop_words)"
   ]
  },
  {
   "cell_type": "code",
   "execution_count": 43,
   "metadata": {},
   "outputs": [],
   "source": [
    "filtered_sentence = [w for w in tokenize_word if not w.lower() in stop_words]"
   ]
  },
  {
   "cell_type": "code",
   "execution_count": 44,
   "metadata": {
    "tags": []
   },
   "outputs": [],
   "source": [
    "filtered_sentence = []"
   ]
  },
  {
   "cell_type": "code",
   "execution_count": 45,
   "metadata": {},
   "outputs": [],
   "source": [
    "for w in tokenize_word:\n",
    "    if w not in stop_words:\n",
    "        filtered_sentence.append(w)"
   ]
  },
  {
   "cell_type": "code",
   "execution_count": 46,
   "metadata": {
    "tags": []
   },
   "outputs": [
    {
     "name": "stdout",
     "output_type": "stream",
     "text": [
      "58\n",
      "['The', 'Salt', 'Lakes', 'Siwa', 'Egypt', 'interesting', 'tourist', 'destination', ',', 'especially', 'swim', 'like', '.', 'It', 'depth', '4', 'meters', 'water', 'salt', 'concentration', '95', '%', '.', 'The', 'Salt', 'Lakes', 'Siwa', 'Egypt', 'picturesque', 'blue', 'water', '.', 'It', 'memorable', 'experience', 'trip', 'Siwa', 'Egypt', '.', 'No', 'need', 'know', 'swim', 'long', 'courage', 'jump', 'down…', '’', 'floating', 'thanks', 'high', 'salt', 'content', 'water', ',', '’', 'sink', '!']\n"
     ]
    }
   ],
   "source": [
    "print (len(filtered_sentence))\n",
    "print (filtered_sentence)"
   ]
  },
  {
   "cell_type": "code",
   "execution_count": null,
   "metadata": {},
   "outputs": [],
   "source": []
  }
 ],
 "metadata": {
  "kernelspec": {
   "display_name": "Python 3 (ipykernel)",
   "language": "python",
   "name": "python3"
  },
  "language_info": {
   "codemirror_mode": {
    "name": "ipython",
    "version": 3
   },
   "file_extension": ".py",
   "mimetype": "text/x-python",
   "name": "python",
   "nbconvert_exporter": "python",
   "pygments_lexer": "ipython3",
   "version": "3.11.1"
  }
 },
 "nbformat": 4,
 "nbformat_minor": 4
}
